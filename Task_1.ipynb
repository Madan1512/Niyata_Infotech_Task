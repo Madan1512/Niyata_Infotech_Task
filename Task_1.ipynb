{
  "metadata": {
    "kernelspec": {
      "name": "python3",
      "display_name": "Python 3",
      "language": "python"
    },
    "language_info": {
      "name": "python",
      "version": "3.10.12",
      "mimetype": "text/x-python",
      "codemirror_mode": {
        "name": "ipython",
        "version": 3
      },
      "pygments_lexer": "ipython3",
      "nbconvert_exporter": "python",
      "file_extension": ".py"
    },
    "colab": {
      "provenance": [],
      "gpuType": "T4",
      "include_colab_link": true
    },
    "accelerator": "GPU",
    "kaggle": {
      "accelerator": "nvidiaTeslaT4",
      "dataSources": [],
      "dockerImageVersionId": 30919,
      "isInternetEnabled": true,
      "language": "python",
      "sourceType": "notebook",
      "isGpuEnabled": true
    }
  },
  "nbformat_minor": 0,
  "nbformat": 4,
  "cells": [
    {
      "cell_type": "markdown",
      "metadata": {
        "id": "view-in-github",
        "colab_type": "text"
      },
      "source": [
        "<a href=\"https://colab.research.google.com/github/Madan1512/Niyata_Infotech_Task/blob/main/Task_1.ipynb\" target=\"_parent\"><img src=\"https://colab.research.google.com/assets/colab-badge.svg\" alt=\"Open In Colab\"/></a>"
      ]
    },
    {
      "cell_type": "code",
      "source": [
        "pip install opendatasets"
      ],
      "metadata": {
        "colab": {
          "base_uri": "https://localhost:8080/"
        },
        "id": "KUKnkYufpFeo",
        "outputId": "9d473460-1d6f-44d9-b11c-92cead979855",
        "trusted": true,
        "execution": {
          "iopub.status.busy": "2025-03-04T04:27:10.901909Z",
          "iopub.execute_input": "2025-03-04T04:27:10.902181Z",
          "iopub.status.idle": "2025-03-04T04:27:15.414934Z",
          "shell.execute_reply.started": "2025-03-04T04:27:10.902160Z",
          "shell.execute_reply": "2025-03-04T04:27:15.413924Z"
        }
      },
      "outputs": [
        {
          "name": "stdout",
          "text": "Collecting opendatasets\n  Downloading opendatasets-0.1.22-py3-none-any.whl.metadata (9.2 kB)\nRequirement already satisfied: tqdm in /usr/local/lib/python3.10/dist-packages (from opendatasets) (4.67.1)\nRequirement already satisfied: kaggle in /usr/local/lib/python3.10/dist-packages (from opendatasets) (1.6.17)\nRequirement already satisfied: click in /usr/local/lib/python3.10/dist-packages (from opendatasets) (8.1.7)\nRequirement already satisfied: six>=1.10 in /usr/local/lib/python3.10/dist-packages (from kaggle->opendatasets) (1.17.0)\nRequirement already satisfied: certifi>=2023.7.22 in /usr/local/lib/python3.10/dist-packages (from kaggle->opendatasets) (2025.1.31)\nRequirement already satisfied: python-dateutil in /usr/local/lib/python3.10/dist-packages (from kaggle->opendatasets) (2.9.0.post0)\nRequirement already satisfied: requests in /usr/local/lib/python3.10/dist-packages (from kaggle->opendatasets) (2.32.3)\nRequirement already satisfied: python-slugify in /usr/local/lib/python3.10/dist-packages (from kaggle->opendatasets) (8.0.4)\nRequirement already satisfied: urllib3 in /usr/local/lib/python3.10/dist-packages (from kaggle->opendatasets) (2.3.0)\nRequirement already satisfied: bleach in /usr/local/lib/python3.10/dist-packages (from kaggle->opendatasets) (6.2.0)\nRequirement already satisfied: webencodings in /usr/local/lib/python3.10/dist-packages (from bleach->kaggle->opendatasets) (0.5.1)\nRequirement already satisfied: text-unidecode>=1.3 in /usr/local/lib/python3.10/dist-packages (from python-slugify->kaggle->opendatasets) (1.3)\nRequirement already satisfied: charset-normalizer<4,>=2 in /usr/local/lib/python3.10/dist-packages (from requests->kaggle->opendatasets) (3.4.1)\nRequirement already satisfied: idna<4,>=2.5 in /usr/local/lib/python3.10/dist-packages (from requests->kaggle->opendatasets) (3.10)\nDownloading opendatasets-0.1.22-py3-none-any.whl (15 kB)\nInstalling collected packages: opendatasets\nSuccessfully installed opendatasets-0.1.22\nNote: you may need to restart the kernel to use updated packages.\n",
          "output_type": "stream"
        }
      ],
      "execution_count": null
    },
    {
      "cell_type": "code",
      "source": [
        "import opendatasets as od\n",
        "od.download(\"https://www.kaggle.com/competitions/store-sales-time-series-forecasting/data\")\n",
        "\n"
      ],
      "metadata": {
        "colab": {
          "base_uri": "https://localhost:8080/"
        },
        "id": "7Za8AINNpY0T",
        "outputId": "2eec5f78-edd3-48bd-bc40-0a1b54b13392",
        "trusted": true,
        "execution": {
          "iopub.status.busy": "2025-03-04T04:27:15.416461Z",
          "iopub.execute_input": "2025-03-04T04:27:15.416767Z",
          "iopub.status.idle": "2025-03-04T04:27:31.163427Z",
          "shell.execute_reply.started": "2025-03-04T04:27:15.416741Z",
          "shell.execute_reply": "2025-03-04T04:27:31.162742Z"
        }
      },
      "outputs": [
        {
          "name": "stdout",
          "text": "Please provide your Kaggle credentials to download this dataset. Learn more: http://bit.ly/kaggle-creds\nYour Kaggle username:",
          "output_type": "stream"
        },
        {
          "output_type": "stream",
          "name": "stdin",
          "text": "  madan151203\n"
        },
        {
          "name": "stdout",
          "text": "Your Kaggle Key:",
          "output_type": "stream"
        },
        {
          "output_type": "stream",
          "name": "stdin",
          "text": "  ········\n"
        },
        {
          "name": "stdout",
          "text": "Downloading store-sales-time-series-forecasting.zip to ./store-sales-time-series-forecasting\n",
          "output_type": "stream"
        },
        {
          "name": "stderr",
          "text": "100%|██████████| 21.4M/21.4M [00:00<00:00, 129MB/s] ",
          "output_type": "stream"
        },
        {
          "name": "stdout",
          "text": "\nExtracting archive ./store-sales-time-series-forecasting/store-sales-time-series-forecasting.zip to ./store-sales-time-series-forecasting\n",
          "output_type": "stream"
        },
        {
          "name": "stderr",
          "text": "\n",
          "output_type": "stream"
        }
      ],
      "execution_count": null
    },
    {
      "cell_type": "code",
      "source": [
        "import pandas as pd\n",
        "import numpy as np"
      ],
      "metadata": {
        "id": "NvDJ14KPpfK4",
        "trusted": true,
        "execution": {
          "iopub.status.busy": "2025-03-04T04:27:38.382709Z",
          "iopub.execute_input": "2025-03-04T04:27:38.382998Z",
          "iopub.status.idle": "2025-03-04T04:27:38.644287Z",
          "shell.execute_reply.started": "2025-03-04T04:27:38.382974Z",
          "shell.execute_reply": "2025-03-04T04:27:38.643690Z"
        }
      },
      "outputs": [],
      "execution_count": null
    },
    {
      "cell_type": "code",
      "source": [
        "train_df = pd.read_csv(\"store-sales-time-series-forecasting/train.csv\")\n",
        "test_df = pd.read_csv(\"store-sales-time-series-forecasting/test.csv\")\n",
        "store_df = pd.read_csv(\"store-sales-time-series-forecasting/stores.csv\")\n",
        "oil_df = pd.read_csv(\"store-sales-time-series-forecasting/oil.csv\")\n",
        "holidays_df = pd.read_csv(\"store-sales-time-series-forecasting/holidays_events.csv\")"
      ],
      "metadata": {
        "id": "i4AS1l5_VTDj",
        "trusted": true,
        "execution": {
          "iopub.status.busy": "2025-03-04T04:27:38.966888Z",
          "iopub.execute_input": "2025-03-04T04:27:38.967293Z",
          "iopub.status.idle": "2025-03-04T04:27:40.727147Z",
          "shell.execute_reply.started": "2025-03-04T04:27:38.967269Z",
          "shell.execute_reply": "2025-03-04T04:27:40.726173Z"
        }
      },
      "outputs": [],
      "execution_count": null
    },
    {
      "cell_type": "code",
      "source": [
        "train_df.head(2)"
      ],
      "metadata": {
        "colab": {
          "base_uri": "https://localhost:8080/",
          "height": 112
        },
        "id": "ccUzy8JCRfh0",
        "outputId": "e8c3c8d0-b2bb-4f03-fc34-9177132423bf",
        "trusted": true,
        "execution": {
          "iopub.status.busy": "2025-03-04T04:27:40.728401Z",
          "iopub.execute_input": "2025-03-04T04:27:40.728734Z",
          "iopub.status.idle": "2025-03-04T04:27:40.752910Z",
          "shell.execute_reply.started": "2025-03-04T04:27:40.728704Z",
          "shell.execute_reply": "2025-03-04T04:27:40.752028Z"
        }
      },
      "outputs": [
        {
          "execution_count": 7,
          "output_type": "execute_result",
          "data": {
            "text/plain": "   id        date  store_nbr      family  sales  onpromotion\n0   0  2013-01-01          1  AUTOMOTIVE    0.0            0\n1   1  2013-01-01          1   BABY CARE    0.0            0",
            "text/html": "<div>\n<style scoped>\n    .dataframe tbody tr th:only-of-type {\n        vertical-align: middle;\n    }\n\n    .dataframe tbody tr th {\n        vertical-align: top;\n    }\n\n    .dataframe thead th {\n        text-align: right;\n    }\n</style>\n<table border=\"1\" class=\"dataframe\">\n  <thead>\n    <tr style=\"text-align: right;\">\n      <th></th>\n      <th>id</th>\n      <th>date</th>\n      <th>store_nbr</th>\n      <th>family</th>\n      <th>sales</th>\n      <th>onpromotion</th>\n    </tr>\n  </thead>\n  <tbody>\n    <tr>\n      <th>0</th>\n      <td>0</td>\n      <td>2013-01-01</td>\n      <td>1</td>\n      <td>AUTOMOTIVE</td>\n      <td>0.0</td>\n      <td>0</td>\n    </tr>\n    <tr>\n      <th>1</th>\n      <td>1</td>\n      <td>2013-01-01</td>\n      <td>1</td>\n      <td>BABY CARE</td>\n      <td>0.0</td>\n      <td>0</td>\n    </tr>\n  </tbody>\n</table>\n</div>"
          },
          "metadata": {}
        }
      ],
      "execution_count": null
    },
    {
      "cell_type": "code",
      "source": [
        "data = [train_df,test_df,store_df,oil_df,holidays_df]\n",
        "data_name = ['train_df','test_df','store_df','oil_df','holidays_df']\n",
        "for j,i in zip(data_name,data):\n",
        "  print(f'{j}-{i.columns}\\n')"
      ],
      "metadata": {
        "colab": {
          "base_uri": "https://localhost:8080/"
        },
        "id": "EqKk_CrGSrzT",
        "outputId": "1dddabe7-30d9-41a1-e591-98626a26b846",
        "trusted": true,
        "execution": {
          "iopub.status.busy": "2025-03-04T04:27:45.132023Z",
          "iopub.execute_input": "2025-03-04T04:27:45.132369Z",
          "iopub.status.idle": "2025-03-04T04:27:45.138198Z",
          "shell.execute_reply.started": "2025-03-04T04:27:45.132340Z",
          "shell.execute_reply": "2025-03-04T04:27:45.137271Z"
        }
      },
      "outputs": [
        {
          "name": "stdout",
          "text": "train_df-Index(['id', 'date', 'store_nbr', 'family', 'sales', 'onpromotion'], dtype='object')\n\ntest_df-Index(['id', 'date', 'store_nbr', 'family', 'onpromotion'], dtype='object')\n\nstore_df-Index(['store_nbr', 'city', 'state', 'type', 'cluster'], dtype='object')\n\noil_df-Index(['date', 'dcoilwtico'], dtype='object')\n\nholidays_df-Index(['date', 'type', 'locale', 'locale_name', 'description', 'transferred'], dtype='object')\n\n",
          "output_type": "stream"
        }
      ],
      "execution_count": null
    },
    {
      "cell_type": "code",
      "source": [
        "train_df = train_df.merge(store_df, on=\"store_nbr\", how=\"left\").merge(oil_df, on=\"date\", how=\"left\").merge(holidays_df, on=\"date\", how=\"left\")\n",
        "test_df = test_df.merge(store_df, on=\"store_nbr\", how=\"left\").merge(oil_df, on=\"date\", how=\"left\").merge(holidays_df, on=\"date\", how=\"left\")"
      ],
      "metadata": {
        "id": "r6AEC8CoXkbp",
        "trusted": true,
        "execution": {
          "iopub.status.busy": "2025-03-04T04:27:45.507885Z",
          "iopub.execute_input": "2025-03-04T04:27:45.508254Z",
          "iopub.status.idle": "2025-03-04T04:27:48.784032Z",
          "shell.execute_reply.started": "2025-03-04T04:27:45.508215Z",
          "shell.execute_reply": "2025-03-04T04:27:48.783336Z"
        }
      },
      "outputs": [],
      "execution_count": null
    },
    {
      "cell_type": "code",
      "source": [
        "train_df.columns"
      ],
      "metadata": {
        "colab": {
          "base_uri": "https://localhost:8080/"
        },
        "id": "RFFdQ1bjZTzD",
        "outputId": "528313c8-47a3-4dc0-b8c9-d54be2a41fcb",
        "trusted": true,
        "execution": {
          "iopub.status.busy": "2025-03-04T04:27:48.784950Z",
          "iopub.execute_input": "2025-03-04T04:27:48.785165Z",
          "iopub.status.idle": "2025-03-04T04:27:48.790788Z",
          "shell.execute_reply.started": "2025-03-04T04:27:48.785146Z",
          "shell.execute_reply": "2025-03-04T04:27:48.789917Z"
        }
      },
      "outputs": [
        {
          "execution_count": 10,
          "output_type": "execute_result",
          "data": {
            "text/plain": "Index(['id', 'date', 'store_nbr', 'family', 'sales', 'onpromotion', 'city',\n       'state', 'type_x', 'cluster', 'dcoilwtico', 'type_y', 'locale',\n       'locale_name', 'description', 'transferred'],\n      dtype='object')"
          },
          "metadata": {}
        }
      ],
      "execution_count": null
    },
    {
      "cell_type": "code",
      "source": [
        "test_df.columns"
      ],
      "metadata": {
        "colab": {
          "base_uri": "https://localhost:8080/"
        },
        "id": "q_4usPVzZl4n",
        "outputId": "8f837b61-8f3f-4ef8-b582-32da9e02c6ce",
        "trusted": true,
        "execution": {
          "iopub.status.busy": "2025-03-04T04:27:52.897533Z",
          "iopub.execute_input": "2025-03-04T04:27:52.897838Z",
          "iopub.status.idle": "2025-03-04T04:27:52.902851Z",
          "shell.execute_reply.started": "2025-03-04T04:27:52.897805Z",
          "shell.execute_reply": "2025-03-04T04:27:52.902173Z"
        }
      },
      "outputs": [
        {
          "execution_count": 11,
          "output_type": "execute_result",
          "data": {
            "text/plain": "Index(['id', 'date', 'store_nbr', 'family', 'onpromotion', 'city', 'state',\n       'type_x', 'cluster', 'dcoilwtico', 'type_y', 'locale', 'locale_name',\n       'description', 'transferred'],\n      dtype='object')"
          },
          "metadata": {}
        }
      ],
      "execution_count": null
    },
    {
      "cell_type": "code",
      "source": [
        "print(train_df.shape)\n",
        "print(test_df.shape)"
      ],
      "metadata": {
        "colab": {
          "base_uri": "https://localhost:8080/"
        },
        "id": "J1B9yCRcZ6hk",
        "outputId": "8ee5aec4-f1b7-4dbe-ea86-6dae2e2621eb",
        "trusted": true,
        "execution": {
          "iopub.status.busy": "2025-03-04T04:27:53.735986Z",
          "iopub.execute_input": "2025-03-04T04:27:53.736261Z",
          "iopub.status.idle": "2025-03-04T04:27:53.740585Z",
          "shell.execute_reply.started": "2025-03-04T04:27:53.736239Z",
          "shell.execute_reply": "2025-03-04T04:27:53.739871Z"
        }
      },
      "outputs": [
        {
          "name": "stdout",
          "text": "(3054348, 16)\n(28512, 15)\n",
          "output_type": "stream"
        }
      ],
      "execution_count": null
    },
    {
      "cell_type": "code",
      "source": [
        "tra= train_df.isnull().sum()\n",
        "tes= test_df.isnull().sum()\n",
        "print(tra)\n",
        "print(tes)"
      ],
      "metadata": {
        "colab": {
          "base_uri": "https://localhost:8080/"
        },
        "id": "Kan34op6aB9i",
        "outputId": "c04a7e15-bc37-4447-f7ea-d8928ca64bbc",
        "trusted": true,
        "execution": {
          "iopub.status.busy": "2025-03-04T04:27:59.646979Z",
          "iopub.execute_input": "2025-03-04T04:27:59.647281Z",
          "iopub.status.idle": "2025-03-04T04:28:00.678622Z",
          "shell.execute_reply.started": "2025-03-04T04:27:59.647255Z",
          "shell.execute_reply": "2025-03-04T04:28:00.677814Z"
        }
      },
      "outputs": [
        {
          "name": "stdout",
          "text": "id                   0\ndate                 0\nstore_nbr            0\nfamily               0\nsales                0\nonpromotion          0\ncity                 0\nstate                0\ntype_x               0\ncluster              0\ndcoilwtico      955152\ntype_y         2551824\nlocale         2551824\nlocale_name    2551824\ndescription    2551824\ntransferred    2551824\ndtype: int64\nid                 0\ndate               0\nstore_nbr          0\nfamily             0\nonpromotion        0\ncity               0\nstate              0\ntype_x             0\ncluster            0\ndcoilwtico      7128\ntype_y         26730\nlocale         26730\nlocale_name    26730\ndescription    26730\ntransferred    26730\ndtype: int64\n",
          "output_type": "stream"
        }
      ],
      "execution_count": null
    },
    {
      "cell_type": "code",
      "source": [
        "train_df[\"dcoilwtico\"] = train_df[\"dcoilwtico\"].bfill().ffill()\n",
        "test_df[\"dcoilwtico\"] = test_df[\"dcoilwtico\"].bfill().ffill()\n"
      ],
      "metadata": {
        "id": "ra8L50RrdyGL",
        "trusted": true,
        "execution": {
          "iopub.status.busy": "2025-03-04T04:28:00.679749Z",
          "iopub.execute_input": "2025-03-04T04:28:00.680096Z",
          "iopub.status.idle": "2025-03-04T04:28:00.731587Z",
          "shell.execute_reply.started": "2025-03-04T04:28:00.680060Z",
          "shell.execute_reply": "2025-03-04T04:28:00.730904Z"
        }
      },
      "outputs": [],
      "execution_count": null
    },
    {
      "cell_type": "code",
      "source": [
        "categorical_col=[\"type_y\",\"locale\",\"locale_name\",\"description\",\"transferred\"]\n",
        "for col in categorical_col:\n",
        "  train_df[col] = train_df[col].ffill().bfill()\n",
        "  test_df[col] = test_df[col].ffill().bfill()"
      ],
      "metadata": {
        "colab": {
          "base_uri": "https://localhost:8080/"
        },
        "id": "rFaHHxYRjL5U",
        "outputId": "378fa531-307a-4270-c503-135fc09da49c",
        "trusted": true,
        "execution": {
          "iopub.status.busy": "2025-03-04T04:28:03.507263Z",
          "iopub.execute_input": "2025-03-04T04:28:03.507613Z",
          "iopub.status.idle": "2025-03-04T04:28:06.014302Z",
          "shell.execute_reply.started": "2025-03-04T04:28:03.507582Z",
          "shell.execute_reply": "2025-03-04T04:28:06.013508Z"
        }
      },
      "outputs": [
        {
          "name": "stderr",
          "text": "<ipython-input-15-ba5ef8b93d2b>:3: FutureWarning: Downcasting object dtype arrays on .fillna, .ffill, .bfill is deprecated and will change in a future version. Call result.infer_objects(copy=False) instead. To opt-in to the future behavior, set `pd.set_option('future.no_silent_downcasting', True)`\n  train_df[col] = train_df[col].ffill().bfill()\n<ipython-input-15-ba5ef8b93d2b>:4: FutureWarning: Downcasting object dtype arrays on .fillna, .ffill, .bfill is deprecated and will change in a future version. Call result.infer_objects(copy=False) instead. To opt-in to the future behavior, set `pd.set_option('future.no_silent_downcasting', True)`\n  test_df[col] = test_df[col].ffill().bfill()\n",
          "output_type": "stream"
        }
      ],
      "execution_count": null
    },
    {
      "cell_type": "code",
      "source": [
        "train_df.isnull().sum()"
      ],
      "metadata": {
        "colab": {
          "base_uri": "https://localhost:8080/",
          "height": 585
        },
        "id": "oi7cWe_DdvQ_",
        "outputId": "ca195935-d6ff-4668-cf6b-3c0e60dbea2a",
        "trusted": true,
        "execution": {
          "iopub.status.busy": "2025-03-04T04:28:06.015286Z",
          "iopub.execute_input": "2025-03-04T04:28:06.015604Z",
          "iopub.status.idle": "2025-03-04T04:28:07.140276Z",
          "shell.execute_reply.started": "2025-03-04T04:28:06.015579Z",
          "shell.execute_reply": "2025-03-04T04:28:07.139316Z"
        }
      },
      "outputs": [
        {
          "execution_count": 16,
          "output_type": "execute_result",
          "data": {
            "text/plain": "id             0\ndate           0\nstore_nbr      0\nfamily         0\nsales          0\nonpromotion    0\ncity           0\nstate          0\ntype_x         0\ncluster        0\ndcoilwtico     0\ntype_y         0\nlocale         0\nlocale_name    0\ndescription    0\ntransferred    0\ndtype: int64"
          },
          "metadata": {}
        }
      ],
      "execution_count": null
    },
    {
      "cell_type": "code",
      "source": [
        "test_df.isnull().sum()"
      ],
      "metadata": {
        "id": "lx36A8GGeKnb",
        "colab": {
          "base_uri": "https://localhost:8080/",
          "height": 554
        },
        "outputId": "755bf75e-db60-4513-d790-7b0da05ff938",
        "trusted": true,
        "execution": {
          "iopub.status.busy": "2025-03-04T04:28:07.141762Z",
          "iopub.execute_input": "2025-03-04T04:28:07.142025Z",
          "iopub.status.idle": "2025-03-04T04:28:07.159296Z",
          "shell.execute_reply.started": "2025-03-04T04:28:07.142003Z",
          "shell.execute_reply": "2025-03-04T04:28:07.158501Z"
        }
      },
      "outputs": [
        {
          "execution_count": 17,
          "output_type": "execute_result",
          "data": {
            "text/plain": "id             0\ndate           0\nstore_nbr      0\nfamily         0\nonpromotion    0\ncity           0\nstate          0\ntype_x         0\ncluster        0\ndcoilwtico     0\ntype_y         0\nlocale         0\nlocale_name    0\ndescription    0\ntransferred    0\ndtype: int64"
          },
          "metadata": {}
        }
      ],
      "execution_count": null
    },
    {
      "cell_type": "code",
      "source": [
        "train_df[\"date\"]=pd.to_datetime(train_df[\"date\"])\n",
        "train_df[\"day\"]=train_df[\"date\"].dt.day\n",
        "train_df[\"month\"]=train_df[\"date\"].dt.month\n",
        "train_df[\"year\"]=train_df[\"date\"].dt.year\n",
        "train_df[\"day_of_week\"]=train_df[\"date\"].dt.dayofweek"
      ],
      "metadata": {
        "id": "5QdewCO2klLV",
        "trusted": true,
        "execution": {
          "iopub.status.busy": "2025-03-04T04:28:08.212811Z",
          "iopub.execute_input": "2025-03-04T04:28:08.213094Z",
          "iopub.status.idle": "2025-03-04T04:28:08.752003Z",
          "shell.execute_reply.started": "2025-03-04T04:28:08.213072Z",
          "shell.execute_reply": "2025-03-04T04:28:08.751303Z"
        }
      },
      "outputs": [],
      "execution_count": null
    },
    {
      "cell_type": "code",
      "source": [
        "test_df[\"date\"]=pd.to_datetime(test_df[\"date\"])\n",
        "test_df[\"day\"]=test_df[\"date\"].dt.day\n",
        "test_df[\"month\"]=test_df[\"date\"].dt.month\n",
        "test_df[\"day_of_week\"]=test_df[\"date\"].dt.dayofweek"
      ],
      "metadata": {
        "id": "YnPzyAEdoqNX",
        "trusted": true,
        "execution": {
          "iopub.status.busy": "2025-03-04T04:28:08.752973Z",
          "iopub.execute_input": "2025-03-04T04:28:08.753194Z",
          "iopub.status.idle": "2025-03-04T04:28:08.765685Z",
          "shell.execute_reply.started": "2025-03-04T04:28:08.753175Z",
          "shell.execute_reply": "2025-03-04T04:28:08.764881Z"
        }
      },
      "outputs": [],
      "execution_count": null
    },
    {
      "cell_type": "code",
      "source": [
        "train_df.info()"
      ],
      "metadata": {
        "colab": {
          "base_uri": "https://localhost:8080/"
        },
        "id": "VGCIDt24pAM4",
        "outputId": "13992f84-4bcf-4c91-dca8-5cd2bb835c8c",
        "trusted": true,
        "execution": {
          "iopub.status.busy": "2025-03-04T04:28:08.766973Z",
          "iopub.execute_input": "2025-03-04T04:28:08.767181Z",
          "iopub.status.idle": "2025-03-04T04:28:08.780224Z",
          "shell.execute_reply.started": "2025-03-04T04:28:08.767163Z",
          "shell.execute_reply": "2025-03-04T04:28:08.779483Z"
        }
      },
      "outputs": [
        {
          "name": "stdout",
          "text": "<class 'pandas.core.frame.DataFrame'>\nRangeIndex: 3054348 entries, 0 to 3054347\nData columns (total 20 columns):\n #   Column       Dtype         \n---  ------       -----         \n 0   id           int64         \n 1   date         datetime64[ns]\n 2   store_nbr    int64         \n 3   family       object        \n 4   sales        float64       \n 5   onpromotion  int64         \n 6   city         object        \n 7   state        object        \n 8   type_x       object        \n 9   cluster      int64         \n 10  dcoilwtico   float64       \n 11  type_y       object        \n 12  locale       object        \n 13  locale_name  object        \n 14  description  object        \n 15  transferred  bool          \n 16  day          int32         \n 17  month        int32         \n 18  year         int32         \n 19  day_of_week  int32         \ndtypes: bool(1), datetime64[ns](1), float64(2), int32(4), int64(4), object(8)\nmemory usage: 399.1+ MB\n",
          "output_type": "stream"
        }
      ],
      "execution_count": null
    },
    {
      "cell_type": "code",
      "source": [
        "test_df.info()"
      ],
      "metadata": {
        "colab": {
          "base_uri": "https://localhost:8080/"
        },
        "id": "J23zWMnWsAPp",
        "outputId": "16e8c335-d029-492a-9050-6ae4995c65ef",
        "trusted": true,
        "execution": {
          "iopub.status.busy": "2025-03-04T04:28:08.781145Z",
          "iopub.execute_input": "2025-03-04T04:28:08.781393Z",
          "iopub.status.idle": "2025-03-04T04:28:08.809375Z",
          "shell.execute_reply.started": "2025-03-04T04:28:08.781363Z",
          "shell.execute_reply": "2025-03-04T04:28:08.808774Z"
        }
      },
      "outputs": [
        {
          "name": "stdout",
          "text": "<class 'pandas.core.frame.DataFrame'>\nRangeIndex: 28512 entries, 0 to 28511\nData columns (total 18 columns):\n #   Column       Non-Null Count  Dtype         \n---  ------       --------------  -----         \n 0   id           28512 non-null  int64         \n 1   date         28512 non-null  datetime64[ns]\n 2   store_nbr    28512 non-null  int64         \n 3   family       28512 non-null  object        \n 4   onpromotion  28512 non-null  int64         \n 5   city         28512 non-null  object        \n 6   state        28512 non-null  object        \n 7   type_x       28512 non-null  object        \n 8   cluster      28512 non-null  int64         \n 9   dcoilwtico   28512 non-null  float64       \n 10  type_y       28512 non-null  object        \n 11  locale       28512 non-null  object        \n 12  locale_name  28512 non-null  object        \n 13  description  28512 non-null  object        \n 14  transferred  28512 non-null  bool          \n 15  day          28512 non-null  int32         \n 16  month        28512 non-null  int32         \n 17  day_of_week  28512 non-null  int32         \ndtypes: bool(1), datetime64[ns](1), float64(1), int32(3), int64(4), object(8)\nmemory usage: 3.4+ MB\n",
          "output_type": "stream"
        }
      ],
      "execution_count": null
    },
    {
      "cell_type": "code",
      "source": [
        "cat_columns=[\"family\",\"city\",\"state\",\"type_x\"]\n",
        "cols_in_traindf=[col for col in cat_columns if col in train_df.columns]\n",
        "cols_in_testdf=[col for col in cat_columns if col in test_df.columns]"
      ],
      "metadata": {
        "id": "AJ8bwRyJuNXr",
        "trusted": true,
        "execution": {
          "iopub.status.busy": "2025-03-04T04:28:10.782273Z",
          "iopub.execute_input": "2025-03-04T04:28:10.782580Z",
          "iopub.status.idle": "2025-03-04T04:28:10.786863Z",
          "shell.execute_reply.started": "2025-03-04T04:28:10.782553Z",
          "shell.execute_reply": "2025-03-04T04:28:10.785921Z"
        }
      },
      "outputs": [],
      "execution_count": null
    },
    {
      "cell_type": "code",
      "source": [
        "train_df=pd.get_dummies(train_df,columns=cols_in_traindf,drop_first=True)\n",
        "test_df=pd.get_dummies(test_df,columns=cols_in_testdf,drop_first=True)"
      ],
      "metadata": {
        "id": "nlqY7lKHwbFt",
        "trusted": true,
        "execution": {
          "iopub.status.busy": "2025-03-04T04:28:10.982748Z",
          "iopub.execute_input": "2025-03-04T04:28:10.982993Z",
          "iopub.status.idle": "2025-03-04T04:28:13.253873Z",
          "shell.execute_reply.started": "2025-03-04T04:28:10.982973Z",
          "shell.execute_reply": "2025-03-04T04:28:13.252959Z"
        }
      },
      "outputs": [],
      "execution_count": null
    },
    {
      "cell_type": "code",
      "source": [
        "test_df=test_df.reindex(columns=train_df.columns,fill_value=0)"
      ],
      "metadata": {
        "id": "KcE7NdPlwc0T",
        "trusted": true,
        "execution": {
          "iopub.status.busy": "2025-03-04T04:28:13.255131Z",
          "iopub.execute_input": "2025-03-04T04:28:13.255491Z",
          "iopub.status.idle": "2025-03-04T04:28:13.262995Z",
          "shell.execute_reply.started": "2025-03-04T04:28:13.255457Z",
          "shell.execute_reply": "2025-03-04T04:28:13.262261Z"
        }
      },
      "outputs": [],
      "execution_count": null
    },
    {
      "cell_type": "code",
      "source": [
        "test_df=test_df.drop(columns=[\"sales\"])"
      ],
      "metadata": {
        "id": "mtPCUxGJxDUR",
        "trusted": true,
        "execution": {
          "iopub.status.busy": "2025-03-04T04:28:13.264386Z",
          "iopub.execute_input": "2025-03-04T04:28:13.264694Z",
          "iopub.status.idle": "2025-03-04T04:28:13.277835Z",
          "shell.execute_reply.started": "2025-03-04T04:28:13.264673Z",
          "shell.execute_reply": "2025-03-04T04:28:13.277047Z"
        }
      },
      "outputs": [],
      "execution_count": null
    },
    {
      "cell_type": "code",
      "source": [
        "train_df.columns"
      ],
      "metadata": {
        "colab": {
          "base_uri": "https://localhost:8080/"
        },
        "id": "EPk9OyQ-xoe2",
        "outputId": "a6e5e139-e60a-4a33-c759-ee6180e60506",
        "trusted": true,
        "execution": {
          "iopub.status.busy": "2025-03-04T04:28:14.392793Z",
          "iopub.execute_input": "2025-03-04T04:28:14.393292Z",
          "iopub.status.idle": "2025-03-04T04:28:14.400320Z",
          "shell.execute_reply.started": "2025-03-04T04:28:14.393231Z",
          "shell.execute_reply": "2025-03-04T04:28:14.399427Z"
        }
      },
      "outputs": [
        {
          "execution_count": 26,
          "output_type": "execute_result",
          "data": {
            "text/plain": "Index(['id', 'date', 'store_nbr', 'sales', 'onpromotion', 'cluster',\n       'dcoilwtico', 'type_y', 'locale', 'locale_name', 'description',\n       'transferred', 'day', 'month', 'year', 'day_of_week',\n       'family_BABY CARE', 'family_BEAUTY', 'family_BEVERAGES', 'family_BOOKS',\n       'family_BREAD/BAKERY', 'family_CELEBRATION', 'family_CLEANING',\n       'family_DAIRY', 'family_DELI', 'family_EGGS', 'family_FROZEN FOODS',\n       'family_GROCERY I', 'family_GROCERY II', 'family_HARDWARE',\n       'family_HOME AND KITCHEN I', 'family_HOME AND KITCHEN II',\n       'family_HOME APPLIANCES', 'family_HOME CARE', 'family_LADIESWEAR',\n       'family_LAWN AND GARDEN', 'family_LINGERIE', 'family_LIQUOR,WINE,BEER',\n       'family_MAGAZINES', 'family_MEATS', 'family_PERSONAL CARE',\n       'family_PET SUPPLIES', 'family_PLAYERS AND ELECTRONICS',\n       'family_POULTRY', 'family_PREPARED FOODS', 'family_PRODUCE',\n       'family_SCHOOL AND OFFICE SUPPLIES', 'family_SEAFOOD', 'city_Babahoyo',\n       'city_Cayambe', 'city_Cuenca', 'city_Daule', 'city_El Carmen',\n       'city_Esmeraldas', 'city_Guaranda', 'city_Guayaquil', 'city_Ibarra',\n       'city_Latacunga', 'city_Libertad', 'city_Loja', 'city_Machala',\n       'city_Manta', 'city_Playas', 'city_Puyo', 'city_Quevedo', 'city_Quito',\n       'city_Riobamba', 'city_Salinas', 'city_Santo Domingo', 'state_Bolivar',\n       'state_Chimborazo', 'state_Cotopaxi', 'state_El Oro',\n       'state_Esmeraldas', 'state_Guayas', 'state_Imbabura', 'state_Loja',\n       'state_Los Rios', 'state_Manabi', 'state_Pastaza', 'state_Pichincha',\n       'state_Santa Elena', 'state_Santo Domingo de los Tsachilas',\n       'state_Tungurahua', 'type_x_B', 'type_x_C', 'type_x_D', 'type_x_E'],\n      dtype='object')"
          },
          "metadata": {}
        }
      ],
      "execution_count": null
    },
    {
      "cell_type": "code",
      "source": [
        "test_df.columns"
      ],
      "metadata": {
        "colab": {
          "base_uri": "https://localhost:8080/"
        },
        "id": "dumtOBceybxe",
        "outputId": "99ca8578-7ef5-40f3-e7b9-0070f833574e",
        "trusted": true,
        "execution": {
          "iopub.status.busy": "2025-03-04T04:28:14.777020Z",
          "iopub.execute_input": "2025-03-04T04:28:14.777327Z",
          "iopub.status.idle": "2025-03-04T04:28:14.783093Z",
          "shell.execute_reply.started": "2025-03-04T04:28:14.777300Z",
          "shell.execute_reply": "2025-03-04T04:28:14.782185Z"
        }
      },
      "outputs": [
        {
          "execution_count": 27,
          "output_type": "execute_result",
          "data": {
            "text/plain": "Index(['id', 'date', 'store_nbr', 'onpromotion', 'cluster', 'dcoilwtico',\n       'type_y', 'locale', 'locale_name', 'description', 'transferred', 'day',\n       'month', 'year', 'day_of_week', 'family_BABY CARE', 'family_BEAUTY',\n       'family_BEVERAGES', 'family_BOOKS', 'family_BREAD/BAKERY',\n       'family_CELEBRATION', 'family_CLEANING', 'family_DAIRY', 'family_DELI',\n       'family_EGGS', 'family_FROZEN FOODS', 'family_GROCERY I',\n       'family_GROCERY II', 'family_HARDWARE', 'family_HOME AND KITCHEN I',\n       'family_HOME AND KITCHEN II', 'family_HOME APPLIANCES',\n       'family_HOME CARE', 'family_LADIESWEAR', 'family_LAWN AND GARDEN',\n       'family_LINGERIE', 'family_LIQUOR,WINE,BEER', 'family_MAGAZINES',\n       'family_MEATS', 'family_PERSONAL CARE', 'family_PET SUPPLIES',\n       'family_PLAYERS AND ELECTRONICS', 'family_POULTRY',\n       'family_PREPARED FOODS', 'family_PRODUCE',\n       'family_SCHOOL AND OFFICE SUPPLIES', 'family_SEAFOOD', 'city_Babahoyo',\n       'city_Cayambe', 'city_Cuenca', 'city_Daule', 'city_El Carmen',\n       'city_Esmeraldas', 'city_Guaranda', 'city_Guayaquil', 'city_Ibarra',\n       'city_Latacunga', 'city_Libertad', 'city_Loja', 'city_Machala',\n       'city_Manta', 'city_Playas', 'city_Puyo', 'city_Quevedo', 'city_Quito',\n       'city_Riobamba', 'city_Salinas', 'city_Santo Domingo', 'state_Bolivar',\n       'state_Chimborazo', 'state_Cotopaxi', 'state_El Oro',\n       'state_Esmeraldas', 'state_Guayas', 'state_Imbabura', 'state_Loja',\n       'state_Los Rios', 'state_Manabi', 'state_Pastaza', 'state_Pichincha',\n       'state_Santa Elena', 'state_Santo Domingo de los Tsachilas',\n       'state_Tungurahua', 'type_x_B', 'type_x_C', 'type_x_D', 'type_x_E'],\n      dtype='object')"
          },
          "metadata": {}
        }
      ],
      "execution_count": null
    },
    {
      "cell_type": "code",
      "source": [],
      "metadata": {
        "id": "e4i-zNw5ysns",
        "trusted": true
      },
      "outputs": [],
      "execution_count": null
    },
    {
      "cell_type": "code",
      "source": [
        "from sklearn.preprocessing import LabelEncoder\n",
        "encoder=LabelEncoder()\n",
        "for col in cat_columns:\n",
        "  if col in train_df.columns:\n",
        "    train_df[col]=encoder.fit_transform(train_df[col].astype(str))\n",
        "  if col in test_df.columns:\n",
        "    test_df[col]=encoder.transform(test_df[col].astype(str))"
      ],
      "metadata": {
        "id": "0EdfK58CzzJV",
        "trusted": true,
        "execution": {
          "iopub.status.busy": "2025-03-04T04:28:19.707546Z",
          "iopub.execute_input": "2025-03-04T04:28:19.707817Z",
          "iopub.status.idle": "2025-03-04T04:28:20.150053Z",
          "shell.execute_reply.started": "2025-03-04T04:28:19.707797Z",
          "shell.execute_reply": "2025-03-04T04:28:20.149117Z"
        }
      },
      "outputs": [],
      "execution_count": null
    },
    {
      "cell_type": "code",
      "source": [
        "x=train_df.drop(columns=[\"id\",\"date\",\"sales\"])\n",
        "y=train_df[\"sales\"]\n"
      ],
      "metadata": {
        "id": "60EDQWiZ2A2M",
        "trusted": true,
        "execution": {
          "iopub.status.busy": "2025-03-04T04:28:20.151169Z",
          "iopub.execute_input": "2025-03-04T04:28:20.151664Z",
          "iopub.status.idle": "2025-03-04T04:28:20.423196Z",
          "shell.execute_reply.started": "2025-03-04T04:28:20.151642Z",
          "shell.execute_reply": "2025-03-04T04:28:20.422247Z"
        }
      },
      "outputs": [],
      "execution_count": null
    },
    {
      "cell_type": "code",
      "source": [
        "from sklearn.model_selection import train_test_split\n",
        "x_train,x_test,y_train,y_test=train_test_split(x,y,test_size=0.2,random_state=42)"
      ],
      "metadata": {
        "id": "JWNeX5dM0itH",
        "trusted": true,
        "execution": {
          "iopub.status.busy": "2025-03-04T04:28:20.424451Z",
          "iopub.execute_input": "2025-03-04T04:28:20.424758Z",
          "iopub.status.idle": "2025-03-04T04:28:22.058240Z",
          "shell.execute_reply.started": "2025-03-04T04:28:20.424724Z",
          "shell.execute_reply": "2025-03-04T04:28:22.057259Z"
        }
      },
      "outputs": [],
      "execution_count": null
    },
    {
      "cell_type": "code",
      "source": [
        "x_train.shape"
      ],
      "metadata": {
        "colab": {
          "base_uri": "https://localhost:8080/"
        },
        "id": "9wm1XQkg2JAZ",
        "outputId": "d0142297-ec23-4ea7-c7fd-0b20e6a050bd",
        "trusted": true,
        "execution": {
          "iopub.status.busy": "2025-03-04T04:28:24.127201Z",
          "iopub.execute_input": "2025-03-04T04:28:24.127528Z",
          "iopub.status.idle": "2025-03-04T04:28:24.132393Z",
          "shell.execute_reply.started": "2025-03-04T04:28:24.127499Z",
          "shell.execute_reply": "2025-03-04T04:28:24.131516Z"
        }
      },
      "outputs": [
        {
          "execution_count": 31,
          "output_type": "execute_result",
          "data": {
            "text/plain": "(2443478, 85)"
          },
          "metadata": {}
        }
      ],
      "execution_count": null
    },
    {
      "cell_type": "code",
      "source": [
        "y_train.shape"
      ],
      "metadata": {
        "colab": {
          "base_uri": "https://localhost:8080/"
        },
        "id": "o8glhpyf2KXi",
        "outputId": "28e34bc2-1ed8-4334-c4c2-ca421bf40ca3",
        "trusted": true,
        "execution": {
          "iopub.status.busy": "2025-03-04T04:28:24.296771Z",
          "iopub.execute_input": "2025-03-04T04:28:24.297016Z",
          "iopub.status.idle": "2025-03-04T04:28:24.301560Z",
          "shell.execute_reply.started": "2025-03-04T04:28:24.296997Z",
          "shell.execute_reply": "2025-03-04T04:28:24.300722Z"
        }
      },
      "outputs": [
        {
          "execution_count": 32,
          "output_type": "execute_result",
          "data": {
            "text/plain": "(2443478,)"
          },
          "metadata": {}
        }
      ],
      "execution_count": null
    },
    {
      "cell_type": "code",
      "source": [
        "x_test.shape"
      ],
      "metadata": {
        "colab": {
          "base_uri": "https://localhost:8080/"
        },
        "id": "X7SnFy3e2Mrq",
        "outputId": "43f266f8-25cd-40fd-b3c3-168ea6da5824",
        "trusted": true,
        "execution": {
          "iopub.status.busy": "2025-03-04T04:28:24.452304Z",
          "iopub.execute_input": "2025-03-04T04:28:24.452535Z",
          "iopub.status.idle": "2025-03-04T04:28:24.457160Z",
          "shell.execute_reply.started": "2025-03-04T04:28:24.452516Z",
          "shell.execute_reply": "2025-03-04T04:28:24.456391Z"
        }
      },
      "outputs": [
        {
          "execution_count": 33,
          "output_type": "execute_result",
          "data": {
            "text/plain": "(610870, 85)"
          },
          "metadata": {}
        }
      ],
      "execution_count": null
    },
    {
      "cell_type": "code",
      "source": [
        "categorical_columns=x_train.select_dtypes(include=['object']).columns\n",
        "print(\"Categorical_columns: \",categorical_columns)"
      ],
      "metadata": {
        "colab": {
          "base_uri": "https://localhost:8080/"
        },
        "id": "Rr5UCZLp2PN9",
        "outputId": "50c7e7cb-4496-443f-ea22-be054d5914e5",
        "trusted": true,
        "execution": {
          "iopub.status.busy": "2025-03-04T04:28:27.397107Z",
          "iopub.execute_input": "2025-03-04T04:28:27.397469Z",
          "iopub.status.idle": "2025-03-04T04:28:27.499348Z",
          "shell.execute_reply.started": "2025-03-04T04:28:27.397402Z",
          "shell.execute_reply": "2025-03-04T04:28:27.498422Z"
        }
      },
      "outputs": [
        {
          "name": "stdout",
          "text": "Categorical_columns:  Index(['type_y', 'locale', 'locale_name', 'description'], dtype='object')\n",
          "output_type": "stream"
        }
      ],
      "execution_count": null
    },
    {
      "cell_type": "code",
      "source": [
        "for col in categorical_columns:\n",
        "  encoder=LabelEncoder()\n",
        "  x_train[col]=encoder.fit_transform(x_train[col])\n",
        "  x_test[col]=encoder.transform(x_test[col])"
      ],
      "metadata": {
        "id": "rrMMQtiR3ghc",
        "trusted": true,
        "execution": {
          "iopub.status.busy": "2025-03-04T04:28:27.926912Z",
          "iopub.execute_input": "2025-03-04T04:28:27.927163Z",
          "iopub.status.idle": "2025-03-04T04:28:29.734713Z",
          "shell.execute_reply.started": "2025-03-04T04:28:27.927142Z",
          "shell.execute_reply": "2025-03-04T04:28:29.733791Z"
        }
      },
      "outputs": [],
      "execution_count": null
    },
    {
      "cell_type": "code",
      "source": [
        "categ=x_train.select_dtypes(include=['object']).columns\n",
        "print(categ)"
      ],
      "metadata": {
        "colab": {
          "base_uri": "https://localhost:8080/"
        },
        "id": "59lo-qMU4ARU",
        "outputId": "22a20744-0ae9-4009-b69d-113546356b21",
        "trusted": true,
        "execution": {
          "iopub.status.busy": "2025-03-04T04:28:30.402938Z",
          "iopub.execute_input": "2025-03-04T04:28:30.403228Z",
          "iopub.status.idle": "2025-03-04T04:28:30.407879Z",
          "shell.execute_reply.started": "2025-03-04T04:28:30.403203Z",
          "shell.execute_reply": "2025-03-04T04:28:30.406989Z"
        }
      },
      "outputs": [
        {
          "name": "stdout",
          "text": "Index([], dtype='object')\n",
          "output_type": "stream"
        }
      ],
      "execution_count": null
    },
    {
      "cell_type": "code",
      "source": [
        "from sklearn.linear_model import LinearRegression\n",
        "from sklearn.ensemble import RandomForestRegressor\n",
        "from xgboost import XGBRegressor\n",
        "lr=LinearRegression()\n",
        "rf=RandomForestRegressor(n_estimators=20,random_state=42)\n",
        "xgb=XGBRegressor()"
      ],
      "metadata": {
        "id": "oSTLZriF4FPp",
        "trusted": true,
        "execution": {
          "iopub.status.busy": "2025-03-04T04:28:30.491966Z",
          "iopub.execute_input": "2025-03-04T04:28:30.492175Z",
          "iopub.status.idle": "2025-03-04T04:28:30.971871Z",
          "shell.execute_reply.started": "2025-03-04T04:28:30.492158Z",
          "shell.execute_reply": "2025-03-04T04:28:30.970957Z"
        }
      },
      "outputs": [],
      "execution_count": null
    },
    {
      "cell_type": "code",
      "source": [
        "lr.fit(x_train,y_train)"
      ],
      "metadata": {
        "colab": {
          "base_uri": "https://localhost:8080/",
          "height": 80
        },
        "id": "LYegkjzd8lQJ",
        "outputId": "ddfb48ef-1408-4b8e-d2be-1c73c4c6bc98",
        "trusted": true,
        "execution": {
          "iopub.status.busy": "2025-03-04T04:28:33.072489Z",
          "iopub.execute_input": "2025-03-04T04:28:33.072782Z",
          "iopub.status.idle": "2025-03-04T04:28:47.629994Z",
          "shell.execute_reply.started": "2025-03-04T04:28:33.072760Z",
          "shell.execute_reply": "2025-03-04T04:28:47.629273Z"
        }
      },
      "outputs": [
        {
          "execution_count": 38,
          "output_type": "execute_result",
          "data": {
            "text/plain": "LinearRegression()",
            "text/html": "<style>#sk-container-id-1 {color: black;background-color: white;}#sk-container-id-1 pre{padding: 0;}#sk-container-id-1 div.sk-toggleable {background-color: white;}#sk-container-id-1 label.sk-toggleable__label {cursor: pointer;display: block;width: 100%;margin-bottom: 0;padding: 0.3em;box-sizing: border-box;text-align: center;}#sk-container-id-1 label.sk-toggleable__label-arrow:before {content: \"▸\";float: left;margin-right: 0.25em;color: #696969;}#sk-container-id-1 label.sk-toggleable__label-arrow:hover:before {color: black;}#sk-container-id-1 div.sk-estimator:hover label.sk-toggleable__label-arrow:before {color: black;}#sk-container-id-1 div.sk-toggleable__content {max-height: 0;max-width: 0;overflow: hidden;text-align: left;background-color: #f0f8ff;}#sk-container-id-1 div.sk-toggleable__content pre {margin: 0.2em;color: black;border-radius: 0.25em;background-color: #f0f8ff;}#sk-container-id-1 input.sk-toggleable__control:checked~div.sk-toggleable__content {max-height: 200px;max-width: 100%;overflow: auto;}#sk-container-id-1 input.sk-toggleable__control:checked~label.sk-toggleable__label-arrow:before {content: \"▾\";}#sk-container-id-1 div.sk-estimator input.sk-toggleable__control:checked~label.sk-toggleable__label {background-color: #d4ebff;}#sk-container-id-1 div.sk-label input.sk-toggleable__control:checked~label.sk-toggleable__label {background-color: #d4ebff;}#sk-container-id-1 input.sk-hidden--visually {border: 0;clip: rect(1px 1px 1px 1px);clip: rect(1px, 1px, 1px, 1px);height: 1px;margin: -1px;overflow: hidden;padding: 0;position: absolute;width: 1px;}#sk-container-id-1 div.sk-estimator {font-family: monospace;background-color: #f0f8ff;border: 1px dotted black;border-radius: 0.25em;box-sizing: border-box;margin-bottom: 0.5em;}#sk-container-id-1 div.sk-estimator:hover {background-color: #d4ebff;}#sk-container-id-1 div.sk-parallel-item::after {content: \"\";width: 100%;border-bottom: 1px solid gray;flex-grow: 1;}#sk-container-id-1 div.sk-label:hover label.sk-toggleable__label {background-color: #d4ebff;}#sk-container-id-1 div.sk-serial::before {content: \"\";position: absolute;border-left: 1px solid gray;box-sizing: border-box;top: 0;bottom: 0;left: 50%;z-index: 0;}#sk-container-id-1 div.sk-serial {display: flex;flex-direction: column;align-items: center;background-color: white;padding-right: 0.2em;padding-left: 0.2em;position: relative;}#sk-container-id-1 div.sk-item {position: relative;z-index: 1;}#sk-container-id-1 div.sk-parallel {display: flex;align-items: stretch;justify-content: center;background-color: white;position: relative;}#sk-container-id-1 div.sk-item::before, #sk-container-id-1 div.sk-parallel-item::before {content: \"\";position: absolute;border-left: 1px solid gray;box-sizing: border-box;top: 0;bottom: 0;left: 50%;z-index: -1;}#sk-container-id-1 div.sk-parallel-item {display: flex;flex-direction: column;z-index: 1;position: relative;background-color: white;}#sk-container-id-1 div.sk-parallel-item:first-child::after {align-self: flex-end;width: 50%;}#sk-container-id-1 div.sk-parallel-item:last-child::after {align-self: flex-start;width: 50%;}#sk-container-id-1 div.sk-parallel-item:only-child::after {width: 0;}#sk-container-id-1 div.sk-dashed-wrapped {border: 1px dashed gray;margin: 0 0.4em 0.5em 0.4em;box-sizing: border-box;padding-bottom: 0.4em;background-color: white;}#sk-container-id-1 div.sk-label label {font-family: monospace;font-weight: bold;display: inline-block;line-height: 1.2em;}#sk-container-id-1 div.sk-label-container {text-align: center;}#sk-container-id-1 div.sk-container {/* jupyter's `normalize.less` sets `[hidden] { display: none; }` but bootstrap.min.css set `[hidden] { display: none !important; }` so we also need the `!important` here to be able to override the default hidden behavior on the sphinx rendered scikit-learn.org. See: https://github.com/scikit-learn/scikit-learn/issues/21755 */display: inline-block !important;position: relative;}#sk-container-id-1 div.sk-text-repr-fallback {display: none;}</style><div id=\"sk-container-id-1\" class=\"sk-top-container\"><div class=\"sk-text-repr-fallback\"><pre>LinearRegression()</pre><b>In a Jupyter environment, please rerun this cell to show the HTML representation or trust the notebook. <br />On GitHub, the HTML representation is unable to render, please try loading this page with nbviewer.org.</b></div><div class=\"sk-container\" hidden><div class=\"sk-item\"><div class=\"sk-estimator sk-toggleable\"><input class=\"sk-toggleable__control sk-hidden--visually\" id=\"sk-estimator-id-1\" type=\"checkbox\" checked><label for=\"sk-estimator-id-1\" class=\"sk-toggleable__label sk-toggleable__label-arrow\">LinearRegression</label><div class=\"sk-toggleable__content\"><pre>LinearRegression()</pre></div></div></div></div></div>"
          },
          "metadata": {}
        }
      ],
      "execution_count": null
    },
    {
      "cell_type": "code",
      "source": [
        "xgb.fit(x_train,y_train)"
      ],
      "metadata": {
        "colab": {
          "base_uri": "https://localhost:8080/",
          "height": 253
        },
        "id": "o1WT0-N79erK",
        "outputId": "2084fe8b-e860-4bf5-b4ef-a42110a8aaa8",
        "trusted": true,
        "execution": {
          "iopub.status.busy": "2025-03-04T04:28:47.630882Z",
          "iopub.execute_input": "2025-03-04T04:28:47.631121Z",
          "iopub.status.idle": "2025-03-04T04:29:24.363463Z",
          "shell.execute_reply.started": "2025-03-04T04:28:47.631088Z",
          "shell.execute_reply": "2025-03-04T04:29:24.362583Z"
        }
      },
      "outputs": [
        {
          "execution_count": 39,
          "output_type": "execute_result",
          "data": {
            "text/plain": "XGBRegressor(base_score=None, booster=None, callbacks=None,\n             colsample_bylevel=None, colsample_bynode=None,\n             colsample_bytree=None, device=None, early_stopping_rounds=None,\n             enable_categorical=False, eval_metric=None, feature_types=None,\n             gamma=None, grow_policy=None, importance_type=None,\n             interaction_constraints=None, learning_rate=None, max_bin=None,\n             max_cat_threshold=None, max_cat_to_onehot=None,\n             max_delta_step=None, max_depth=None, max_leaves=None,\n             min_child_weight=None, missing=nan, monotone_constraints=None,\n             multi_strategy=None, n_estimators=None, n_jobs=None,\n             num_parallel_tree=None, random_state=None, ...)",
            "text/html": "<style>#sk-container-id-2 {color: black;background-color: white;}#sk-container-id-2 pre{padding: 0;}#sk-container-id-2 div.sk-toggleable {background-color: white;}#sk-container-id-2 label.sk-toggleable__label {cursor: pointer;display: block;width: 100%;margin-bottom: 0;padding: 0.3em;box-sizing: border-box;text-align: center;}#sk-container-id-2 label.sk-toggleable__label-arrow:before {content: \"▸\";float: left;margin-right: 0.25em;color: #696969;}#sk-container-id-2 label.sk-toggleable__label-arrow:hover:before {color: black;}#sk-container-id-2 div.sk-estimator:hover label.sk-toggleable__label-arrow:before {color: black;}#sk-container-id-2 div.sk-toggleable__content {max-height: 0;max-width: 0;overflow: hidden;text-align: left;background-color: #f0f8ff;}#sk-container-id-2 div.sk-toggleable__content pre {margin: 0.2em;color: black;border-radius: 0.25em;background-color: #f0f8ff;}#sk-container-id-2 input.sk-toggleable__control:checked~div.sk-toggleable__content {max-height: 200px;max-width: 100%;overflow: auto;}#sk-container-id-2 input.sk-toggleable__control:checked~label.sk-toggleable__label-arrow:before {content: \"▾\";}#sk-container-id-2 div.sk-estimator input.sk-toggleable__control:checked~label.sk-toggleable__label {background-color: #d4ebff;}#sk-container-id-2 div.sk-label input.sk-toggleable__control:checked~label.sk-toggleable__label {background-color: #d4ebff;}#sk-container-id-2 input.sk-hidden--visually {border: 0;clip: rect(1px 1px 1px 1px);clip: rect(1px, 1px, 1px, 1px);height: 1px;margin: -1px;overflow: hidden;padding: 0;position: absolute;width: 1px;}#sk-container-id-2 div.sk-estimator {font-family: monospace;background-color: #f0f8ff;border: 1px dotted black;border-radius: 0.25em;box-sizing: border-box;margin-bottom: 0.5em;}#sk-container-id-2 div.sk-estimator:hover {background-color: #d4ebff;}#sk-container-id-2 div.sk-parallel-item::after {content: \"\";width: 100%;border-bottom: 1px solid gray;flex-grow: 1;}#sk-container-id-2 div.sk-label:hover label.sk-toggleable__label {background-color: #d4ebff;}#sk-container-id-2 div.sk-serial::before {content: \"\";position: absolute;border-left: 1px solid gray;box-sizing: border-box;top: 0;bottom: 0;left: 50%;z-index: 0;}#sk-container-id-2 div.sk-serial {display: flex;flex-direction: column;align-items: center;background-color: white;padding-right: 0.2em;padding-left: 0.2em;position: relative;}#sk-container-id-2 div.sk-item {position: relative;z-index: 1;}#sk-container-id-2 div.sk-parallel {display: flex;align-items: stretch;justify-content: center;background-color: white;position: relative;}#sk-container-id-2 div.sk-item::before, #sk-container-id-2 div.sk-parallel-item::before {content: \"\";position: absolute;border-left: 1px solid gray;box-sizing: border-box;top: 0;bottom: 0;left: 50%;z-index: -1;}#sk-container-id-2 div.sk-parallel-item {display: flex;flex-direction: column;z-index: 1;position: relative;background-color: white;}#sk-container-id-2 div.sk-parallel-item:first-child::after {align-self: flex-end;width: 50%;}#sk-container-id-2 div.sk-parallel-item:last-child::after {align-self: flex-start;width: 50%;}#sk-container-id-2 div.sk-parallel-item:only-child::after {width: 0;}#sk-container-id-2 div.sk-dashed-wrapped {border: 1px dashed gray;margin: 0 0.4em 0.5em 0.4em;box-sizing: border-box;padding-bottom: 0.4em;background-color: white;}#sk-container-id-2 div.sk-label label {font-family: monospace;font-weight: bold;display: inline-block;line-height: 1.2em;}#sk-container-id-2 div.sk-label-container {text-align: center;}#sk-container-id-2 div.sk-container {/* jupyter's `normalize.less` sets `[hidden] { display: none; }` but bootstrap.min.css set `[hidden] { display: none !important; }` so we also need the `!important` here to be able to override the default hidden behavior on the sphinx rendered scikit-learn.org. See: https://github.com/scikit-learn/scikit-learn/issues/21755 */display: inline-block !important;position: relative;}#sk-container-id-2 div.sk-text-repr-fallback {display: none;}</style><div id=\"sk-container-id-2\" class=\"sk-top-container\"><div class=\"sk-text-repr-fallback\"><pre>XGBRegressor(base_score=None, booster=None, callbacks=None,\n             colsample_bylevel=None, colsample_bynode=None,\n             colsample_bytree=None, device=None, early_stopping_rounds=None,\n             enable_categorical=False, eval_metric=None, feature_types=None,\n             gamma=None, grow_policy=None, importance_type=None,\n             interaction_constraints=None, learning_rate=None, max_bin=None,\n             max_cat_threshold=None, max_cat_to_onehot=None,\n             max_delta_step=None, max_depth=None, max_leaves=None,\n             min_child_weight=None, missing=nan, monotone_constraints=None,\n             multi_strategy=None, n_estimators=None, n_jobs=None,\n             num_parallel_tree=None, random_state=None, ...)</pre><b>In a Jupyter environment, please rerun this cell to show the HTML representation or trust the notebook. <br />On GitHub, the HTML representation is unable to render, please try loading this page with nbviewer.org.</b></div><div class=\"sk-container\" hidden><div class=\"sk-item\"><div class=\"sk-estimator sk-toggleable\"><input class=\"sk-toggleable__control sk-hidden--visually\" id=\"sk-estimator-id-2\" type=\"checkbox\" checked><label for=\"sk-estimator-id-2\" class=\"sk-toggleable__label sk-toggleable__label-arrow\">XGBRegressor</label><div class=\"sk-toggleable__content\"><pre>XGBRegressor(base_score=None, booster=None, callbacks=None,\n             colsample_bylevel=None, colsample_bynode=None,\n             colsample_bytree=None, device=None, early_stopping_rounds=None,\n             enable_categorical=False, eval_metric=None, feature_types=None,\n             gamma=None, grow_policy=None, importance_type=None,\n             interaction_constraints=None, learning_rate=None, max_bin=None,\n             max_cat_threshold=None, max_cat_to_onehot=None,\n             max_delta_step=None, max_depth=None, max_leaves=None,\n             min_child_weight=None, missing=nan, monotone_constraints=None,\n             multi_strategy=None, n_estimators=None, n_jobs=None,\n             num_parallel_tree=None, random_state=None, ...)</pre></div></div></div></div></div>"
          },
          "metadata": {}
        }
      ],
      "execution_count": null
    },
    {
      "cell_type": "code",
      "source": [
        "rf.fit(x_train,y_train)"
      ],
      "metadata": {
        "colab": {
          "base_uri": "https://localhost:8080/",
          "height": 80
        },
        "id": "nkuGwBkh9PEJ",
        "outputId": "dd96bcbe-8a9c-41d6-83f1-20fe9a97f37d",
        "trusted": true,
        "execution": {
          "iopub.status.busy": "2025-03-04T04:29:24.365253Z",
          "iopub.execute_input": "2025-03-04T04:29:24.365507Z",
          "iopub.status.idle": "2025-03-04T04:43:25.442601Z",
          "shell.execute_reply.started": "2025-03-04T04:29:24.365487Z",
          "shell.execute_reply": "2025-03-04T04:43:25.441573Z"
        }
      },
      "outputs": [
        {
          "execution_count": 40,
          "output_type": "execute_result",
          "data": {
            "text/plain": "RandomForestRegressor(n_estimators=20, random_state=42)",
            "text/html": "<style>#sk-container-id-3 {color: black;background-color: white;}#sk-container-id-3 pre{padding: 0;}#sk-container-id-3 div.sk-toggleable {background-color: white;}#sk-container-id-3 label.sk-toggleable__label {cursor: pointer;display: block;width: 100%;margin-bottom: 0;padding: 0.3em;box-sizing: border-box;text-align: center;}#sk-container-id-3 label.sk-toggleable__label-arrow:before {content: \"▸\";float: left;margin-right: 0.25em;color: #696969;}#sk-container-id-3 label.sk-toggleable__label-arrow:hover:before {color: black;}#sk-container-id-3 div.sk-estimator:hover label.sk-toggleable__label-arrow:before {color: black;}#sk-container-id-3 div.sk-toggleable__content {max-height: 0;max-width: 0;overflow: hidden;text-align: left;background-color: #f0f8ff;}#sk-container-id-3 div.sk-toggleable__content pre {margin: 0.2em;color: black;border-radius: 0.25em;background-color: #f0f8ff;}#sk-container-id-3 input.sk-toggleable__control:checked~div.sk-toggleable__content {max-height: 200px;max-width: 100%;overflow: auto;}#sk-container-id-3 input.sk-toggleable__control:checked~label.sk-toggleable__label-arrow:before {content: \"▾\";}#sk-container-id-3 div.sk-estimator input.sk-toggleable__control:checked~label.sk-toggleable__label {background-color: #d4ebff;}#sk-container-id-3 div.sk-label input.sk-toggleable__control:checked~label.sk-toggleable__label {background-color: #d4ebff;}#sk-container-id-3 input.sk-hidden--visually {border: 0;clip: rect(1px 1px 1px 1px);clip: rect(1px, 1px, 1px, 1px);height: 1px;margin: -1px;overflow: hidden;padding: 0;position: absolute;width: 1px;}#sk-container-id-3 div.sk-estimator {font-family: monospace;background-color: #f0f8ff;border: 1px dotted black;border-radius: 0.25em;box-sizing: border-box;margin-bottom: 0.5em;}#sk-container-id-3 div.sk-estimator:hover {background-color: #d4ebff;}#sk-container-id-3 div.sk-parallel-item::after {content: \"\";width: 100%;border-bottom: 1px solid gray;flex-grow: 1;}#sk-container-id-3 div.sk-label:hover label.sk-toggleable__label {background-color: #d4ebff;}#sk-container-id-3 div.sk-serial::before {content: \"\";position: absolute;border-left: 1px solid gray;box-sizing: border-box;top: 0;bottom: 0;left: 50%;z-index: 0;}#sk-container-id-3 div.sk-serial {display: flex;flex-direction: column;align-items: center;background-color: white;padding-right: 0.2em;padding-left: 0.2em;position: relative;}#sk-container-id-3 div.sk-item {position: relative;z-index: 1;}#sk-container-id-3 div.sk-parallel {display: flex;align-items: stretch;justify-content: center;background-color: white;position: relative;}#sk-container-id-3 div.sk-item::before, #sk-container-id-3 div.sk-parallel-item::before {content: \"\";position: absolute;border-left: 1px solid gray;box-sizing: border-box;top: 0;bottom: 0;left: 50%;z-index: -1;}#sk-container-id-3 div.sk-parallel-item {display: flex;flex-direction: column;z-index: 1;position: relative;background-color: white;}#sk-container-id-3 div.sk-parallel-item:first-child::after {align-self: flex-end;width: 50%;}#sk-container-id-3 div.sk-parallel-item:last-child::after {align-self: flex-start;width: 50%;}#sk-container-id-3 div.sk-parallel-item:only-child::after {width: 0;}#sk-container-id-3 div.sk-dashed-wrapped {border: 1px dashed gray;margin: 0 0.4em 0.5em 0.4em;box-sizing: border-box;padding-bottom: 0.4em;background-color: white;}#sk-container-id-3 div.sk-label label {font-family: monospace;font-weight: bold;display: inline-block;line-height: 1.2em;}#sk-container-id-3 div.sk-label-container {text-align: center;}#sk-container-id-3 div.sk-container {/* jupyter's `normalize.less` sets `[hidden] { display: none; }` but bootstrap.min.css set `[hidden] { display: none !important; }` so we also need the `!important` here to be able to override the default hidden behavior on the sphinx rendered scikit-learn.org. See: https://github.com/scikit-learn/scikit-learn/issues/21755 */display: inline-block !important;position: relative;}#sk-container-id-3 div.sk-text-repr-fallback {display: none;}</style><div id=\"sk-container-id-3\" class=\"sk-top-container\"><div class=\"sk-text-repr-fallback\"><pre>RandomForestRegressor(n_estimators=20, random_state=42)</pre><b>In a Jupyter environment, please rerun this cell to show the HTML representation or trust the notebook. <br />On GitHub, the HTML representation is unable to render, please try loading this page with nbviewer.org.</b></div><div class=\"sk-container\" hidden><div class=\"sk-item\"><div class=\"sk-estimator sk-toggleable\"><input class=\"sk-toggleable__control sk-hidden--visually\" id=\"sk-estimator-id-3\" type=\"checkbox\" checked><label for=\"sk-estimator-id-3\" class=\"sk-toggleable__label sk-toggleable__label-arrow\">RandomForestRegressor</label><div class=\"sk-toggleable__content\"><pre>RandomForestRegressor(n_estimators=20, random_state=42)</pre></div></div></div></div></div>"
          },
          "metadata": {}
        }
      ],
      "execution_count": null
    },
    {
      "cell_type": "code",
      "source": [
        "from sklearn.metrics import mean_squared_error,r2_score\n",
        "import numpy as np\n"
      ],
      "metadata": {
        "id": "bEyeUkd51qxb",
        "trusted": true,
        "execution": {
          "iopub.status.busy": "2025-03-04T04:43:25.444052Z",
          "iopub.execute_input": "2025-03-04T04:43:25.444318Z",
          "iopub.status.idle": "2025-03-04T04:43:25.447520Z",
          "shell.execute_reply.started": "2025-03-04T04:43:25.444297Z",
          "shell.execute_reply": "2025-03-04T04:43:25.446802Z"
        }
      },
      "outputs": [],
      "execution_count": null
    },
    {
      "cell_type": "code",
      "source": [
        "lr_pred=lr.predict(x_test)\n",
        "lr_rmse=np.sqrt(mean_squared_error(y_test,lr_pred))\n",
        "lr_rs=r2_score(y_test,lr_pred)\n",
        "print(lr_rmse)\n",
        "print(lr_rs)"
      ],
      "metadata": {
        "id": "gUo0v7UsAC1E",
        "colab": {
          "base_uri": "https://localhost:8080/"
        },
        "outputId": "7c344a2a-2f9f-47e8-dd22-84dd89fc6570",
        "trusted": true,
        "execution": {
          "iopub.status.busy": "2025-03-04T04:43:25.448984Z",
          "iopub.execute_input": "2025-03-04T04:43:25.449191Z",
          "iopub.status.idle": "2025-03-04T04:43:25.801545Z",
          "shell.execute_reply.started": "2025-03-04T04:43:25.449173Z",
          "shell.execute_reply": "2025-03-04T04:43:25.800674Z"
        }
      },
      "outputs": [
        {
          "name": "stdout",
          "text": "711.4256993945977\n0.5769166407824812\n",
          "output_type": "stream"
        }
      ],
      "execution_count": null
    },
    {
      "cell_type": "code",
      "source": [
        "xgb_pred=xgb.predict(x_test)\n",
        "xgb_rmse=np.sqrt(mean_squared_error(y_test,xgb_pred))\n",
        "xgb_rs=r2_score(y_test,xgb_pred)\n",
        "print(xgb_rmse)\n",
        "print(xgb_rs)"
      ],
      "metadata": {
        "colab": {
          "base_uri": "https://localhost:8080/"
        },
        "id": "eCUd_Ths2gQq",
        "outputId": "76e2f7cf-010b-422f-a432-daafb6258c31",
        "trusted": true,
        "execution": {
          "iopub.status.busy": "2025-03-04T04:43:25.802568Z",
          "iopub.execute_input": "2025-03-04T04:43:25.802920Z",
          "iopub.status.idle": "2025-03-04T04:43:29.423100Z",
          "shell.execute_reply.started": "2025-03-04T04:43:25.802884Z",
          "shell.execute_reply": "2025-03-04T04:43:29.422080Z"
        }
      },
      "outputs": [
        {
          "name": "stdout",
          "text": "296.1384289418301\n0.9266911543391272\n",
          "output_type": "stream"
        }
      ],
      "execution_count": null
    },
    {
      "cell_type": "code",
      "source": [
        "rf_pred=rf.predict(x_test)\n",
        "rf_rmse=np.sqrt(mean_squared_error(y_test,rf_pred))\n",
        "rf_rs=r2_score(y_test,rf_pred)\n",
        "print(rf_rmse)\n",
        "print(rf_rs)"
      ],
      "metadata": {
        "colab": {
          "base_uri": "https://localhost:8080/"
        },
        "id": "l1UhLx8j2syo",
        "outputId": "47c2befd-118a-441e-e617-9f05c44fe538",
        "trusted": true,
        "execution": {
          "iopub.status.busy": "2025-03-04T04:43:29.424111Z",
          "iopub.execute_input": "2025-03-04T04:43:29.424470Z",
          "iopub.status.idle": "2025-03-04T04:43:37.589451Z",
          "shell.execute_reply.started": "2025-03-04T04:43:29.424435Z",
          "shell.execute_reply": "2025-03-04T04:43:37.588687Z"
        }
      },
      "outputs": [
        {
          "name": "stdout",
          "text": "252.47738965171152\n0.9467141586076899\n",
          "output_type": "stream"
        }
      ],
      "execution_count": null
    },
    {
      "cell_type": "markdown",
      "source": [
        "Hyperparamter tunning"
      ],
      "metadata": {
        "id": "vqoCkgbLry_8"
      }
    },
    {
      "cell_type": "code",
      "source": [
        "from sklearn.model_selection import GridSearchCV\n",
        "param_grid = {\n",
        "    'n_estimators': [100, 300, 500],\n",
        "    'learning_rate': [0.01,0.05,0.1,0.2],\n",
        "    'max_depth':[3,5,6,10],\n",
        "    'subsample':[0.6,0.8,1.0],\n",
        "    'colsample_bytree':[0.6,0.8,1.0]\n",
        "}\n"
      ],
      "metadata": {
        "trusted": true,
        "execution": {
          "iopub.status.busy": "2025-03-04T04:43:37.596697Z",
          "iopub.execute_input": "2025-03-04T04:43:37.596973Z",
          "iopub.status.idle": "2025-03-04T04:43:37.608101Z",
          "shell.execute_reply.started": "2025-03-04T04:43:37.596947Z",
          "shell.execute_reply": "2025-03-04T04:43:37.607507Z"
        },
        "id": "Xxy_1pmBry_9"
      },
      "outputs": [],
      "execution_count": null
    },
    {
      "cell_type": "code",
      "source": [
        "from sklearn.model_selection import RandomizedSearchCV\n",
        "\n",
        "random_search = RandomizedSearchCV(xgb, param_distributions=param_grid, n_iter=10, cv=3, scoring='neg_root_mean_squared_error',verbose=2, n_jobs=-1)\n",
        "random_search.fit(x_train, y_train)\n"
      ],
      "metadata": {
        "trusted": true,
        "execution": {
          "iopub.status.busy": "2025-03-04T04:45:31.600705Z",
          "iopub.execute_input": "2025-03-04T04:45:31.601032Z",
          "iopub.status.idle": "2025-03-04T05:07:27.605000Z",
          "shell.execute_reply.started": "2025-03-04T04:45:31.601010Z",
          "shell.execute_reply": "2025-03-04T05:07:27.603945Z"
        },
        "id": "fcL6oZurry_9",
        "outputId": "37bc5c91-0983-48bd-82ca-13bd4e3236dc"
      },
      "outputs": [
        {
          "name": "stdout",
          "text": "Fitting 3 folds for each of 10 candidates, totalling 30 fits\n",
          "output_type": "stream"
        },
        {
          "name": "stderr",
          "text": "/usr/local/lib/python3.10/dist-packages/joblib/externals/loky/process_executor.py:752: UserWarning: A worker stopped while some jobs were given to the executor. This can be caused by a too short worker timeout or by a memory leak.\n  warnings.warn(\n",
          "output_type": "stream"
        },
        {
          "execution_count": 48,
          "output_type": "execute_result",
          "data": {
            "text/plain": "RandomizedSearchCV(cv=3,\n                   estimator=XGBRegressor(base_score=None, booster=None,\n                                          callbacks=None,\n                                          colsample_bylevel=None,\n                                          colsample_bynode=None,\n                                          colsample_bytree=None, device=None,\n                                          early_stopping_rounds=None,\n                                          enable_categorical=False,\n                                          eval_metric=None, feature_types=None,\n                                          gamma=None, grow_policy=None,\n                                          importance_type=None,\n                                          interaction_constraints=None,\n                                          learning_rate=...\n                                          min_child_weight=None, missing=nan,\n                                          monotone_constraints=None,\n                                          multi_strategy=None,\n                                          n_estimators=None, n_jobs=None,\n                                          num_parallel_tree=None,\n                                          random_state=None, ...),\n                   n_jobs=-1,\n                   param_distributions={'colsample_bytree': [0.6, 0.8, 1.0],\n                                        'learning_rate': [0.01, 0.05, 0.1, 0.2],\n                                        'max_depth': [3, 5, 6, 10],\n                                        'n_estimators': [100, 300, 500],\n                                        'subsample': [0.6, 0.8, 1.0]},\n                   scoring='neg_root_mean_squared_error', verbose=2)",
            "text/html": "<style>#sk-container-id-4 {color: black;background-color: white;}#sk-container-id-4 pre{padding: 0;}#sk-container-id-4 div.sk-toggleable {background-color: white;}#sk-container-id-4 label.sk-toggleable__label {cursor: pointer;display: block;width: 100%;margin-bottom: 0;padding: 0.3em;box-sizing: border-box;text-align: center;}#sk-container-id-4 label.sk-toggleable__label-arrow:before {content: \"▸\";float: left;margin-right: 0.25em;color: #696969;}#sk-container-id-4 label.sk-toggleable__label-arrow:hover:before {color: black;}#sk-container-id-4 div.sk-estimator:hover label.sk-toggleable__label-arrow:before {color: black;}#sk-container-id-4 div.sk-toggleable__content {max-height: 0;max-width: 0;overflow: hidden;text-align: left;background-color: #f0f8ff;}#sk-container-id-4 div.sk-toggleable__content pre {margin: 0.2em;color: black;border-radius: 0.25em;background-color: #f0f8ff;}#sk-container-id-4 input.sk-toggleable__control:checked~div.sk-toggleable__content {max-height: 200px;max-width: 100%;overflow: auto;}#sk-container-id-4 input.sk-toggleable__control:checked~label.sk-toggleable__label-arrow:before {content: \"▾\";}#sk-container-id-4 div.sk-estimator input.sk-toggleable__control:checked~label.sk-toggleable__label {background-color: #d4ebff;}#sk-container-id-4 div.sk-label input.sk-toggleable__control:checked~label.sk-toggleable__label {background-color: #d4ebff;}#sk-container-id-4 input.sk-hidden--visually {border: 0;clip: rect(1px 1px 1px 1px);clip: rect(1px, 1px, 1px, 1px);height: 1px;margin: -1px;overflow: hidden;padding: 0;position: absolute;width: 1px;}#sk-container-id-4 div.sk-estimator {font-family: monospace;background-color: #f0f8ff;border: 1px dotted black;border-radius: 0.25em;box-sizing: border-box;margin-bottom: 0.5em;}#sk-container-id-4 div.sk-estimator:hover {background-color: #d4ebff;}#sk-container-id-4 div.sk-parallel-item::after {content: \"\";width: 100%;border-bottom: 1px solid gray;flex-grow: 1;}#sk-container-id-4 div.sk-label:hover label.sk-toggleable__label {background-color: #d4ebff;}#sk-container-id-4 div.sk-serial::before {content: \"\";position: absolute;border-left: 1px solid gray;box-sizing: border-box;top: 0;bottom: 0;left: 50%;z-index: 0;}#sk-container-id-4 div.sk-serial {display: flex;flex-direction: column;align-items: center;background-color: white;padding-right: 0.2em;padding-left: 0.2em;position: relative;}#sk-container-id-4 div.sk-item {position: relative;z-index: 1;}#sk-container-id-4 div.sk-parallel {display: flex;align-items: stretch;justify-content: center;background-color: white;position: relative;}#sk-container-id-4 div.sk-item::before, #sk-container-id-4 div.sk-parallel-item::before {content: \"\";position: absolute;border-left: 1px solid gray;box-sizing: border-box;top: 0;bottom: 0;left: 50%;z-index: -1;}#sk-container-id-4 div.sk-parallel-item {display: flex;flex-direction: column;z-index: 1;position: relative;background-color: white;}#sk-container-id-4 div.sk-parallel-item:first-child::after {align-self: flex-end;width: 50%;}#sk-container-id-4 div.sk-parallel-item:last-child::after {align-self: flex-start;width: 50%;}#sk-container-id-4 div.sk-parallel-item:only-child::after {width: 0;}#sk-container-id-4 div.sk-dashed-wrapped {border: 1px dashed gray;margin: 0 0.4em 0.5em 0.4em;box-sizing: border-box;padding-bottom: 0.4em;background-color: white;}#sk-container-id-4 div.sk-label label {font-family: monospace;font-weight: bold;display: inline-block;line-height: 1.2em;}#sk-container-id-4 div.sk-label-container {text-align: center;}#sk-container-id-4 div.sk-container {/* jupyter's `normalize.less` sets `[hidden] { display: none; }` but bootstrap.min.css set `[hidden] { display: none !important; }` so we also need the `!important` here to be able to override the default hidden behavior on the sphinx rendered scikit-learn.org. See: https://github.com/scikit-learn/scikit-learn/issues/21755 */display: inline-block !important;position: relative;}#sk-container-id-4 div.sk-text-repr-fallback {display: none;}</style><div id=\"sk-container-id-4\" class=\"sk-top-container\"><div class=\"sk-text-repr-fallback\"><pre>RandomizedSearchCV(cv=3,\n                   estimator=XGBRegressor(base_score=None, booster=None,\n                                          callbacks=None,\n                                          colsample_bylevel=None,\n                                          colsample_bynode=None,\n                                          colsample_bytree=None, device=None,\n                                          early_stopping_rounds=None,\n                                          enable_categorical=False,\n                                          eval_metric=None, feature_types=None,\n                                          gamma=None, grow_policy=None,\n                                          importance_type=None,\n                                          interaction_constraints=None,\n                                          learning_rate=...\n                                          min_child_weight=None, missing=nan,\n                                          monotone_constraints=None,\n                                          multi_strategy=None,\n                                          n_estimators=None, n_jobs=None,\n                                          num_parallel_tree=None,\n                                          random_state=None, ...),\n                   n_jobs=-1,\n                   param_distributions={&#x27;colsample_bytree&#x27;: [0.6, 0.8, 1.0],\n                                        &#x27;learning_rate&#x27;: [0.01, 0.05, 0.1, 0.2],\n                                        &#x27;max_depth&#x27;: [3, 5, 6, 10],\n                                        &#x27;n_estimators&#x27;: [100, 300, 500],\n                                        &#x27;subsample&#x27;: [0.6, 0.8, 1.0]},\n                   scoring=&#x27;neg_root_mean_squared_error&#x27;, verbose=2)</pre><b>In a Jupyter environment, please rerun this cell to show the HTML representation or trust the notebook. <br />On GitHub, the HTML representation is unable to render, please try loading this page with nbviewer.org.</b></div><div class=\"sk-container\" hidden><div class=\"sk-item sk-dashed-wrapped\"><div class=\"sk-label-container\"><div class=\"sk-label sk-toggleable\"><input class=\"sk-toggleable__control sk-hidden--visually\" id=\"sk-estimator-id-4\" type=\"checkbox\" ><label for=\"sk-estimator-id-4\" class=\"sk-toggleable__label sk-toggleable__label-arrow\">RandomizedSearchCV</label><div class=\"sk-toggleable__content\"><pre>RandomizedSearchCV(cv=3,\n                   estimator=XGBRegressor(base_score=None, booster=None,\n                                          callbacks=None,\n                                          colsample_bylevel=None,\n                                          colsample_bynode=None,\n                                          colsample_bytree=None, device=None,\n                                          early_stopping_rounds=None,\n                                          enable_categorical=False,\n                                          eval_metric=None, feature_types=None,\n                                          gamma=None, grow_policy=None,\n                                          importance_type=None,\n                                          interaction_constraints=None,\n                                          learning_rate=...\n                                          min_child_weight=None, missing=nan,\n                                          monotone_constraints=None,\n                                          multi_strategy=None,\n                                          n_estimators=None, n_jobs=None,\n                                          num_parallel_tree=None,\n                                          random_state=None, ...),\n                   n_jobs=-1,\n                   param_distributions={&#x27;colsample_bytree&#x27;: [0.6, 0.8, 1.0],\n                                        &#x27;learning_rate&#x27;: [0.01, 0.05, 0.1, 0.2],\n                                        &#x27;max_depth&#x27;: [3, 5, 6, 10],\n                                        &#x27;n_estimators&#x27;: [100, 300, 500],\n                                        &#x27;subsample&#x27;: [0.6, 0.8, 1.0]},\n                   scoring=&#x27;neg_root_mean_squared_error&#x27;, verbose=2)</pre></div></div></div><div class=\"sk-parallel\"><div class=\"sk-parallel-item\"><div class=\"sk-item\"><div class=\"sk-label-container\"><div class=\"sk-label sk-toggleable\"><input class=\"sk-toggleable__control sk-hidden--visually\" id=\"sk-estimator-id-5\" type=\"checkbox\" ><label for=\"sk-estimator-id-5\" class=\"sk-toggleable__label sk-toggleable__label-arrow\">estimator: XGBRegressor</label><div class=\"sk-toggleable__content\"><pre>XGBRegressor(base_score=None, booster=None, callbacks=None,\n             colsample_bylevel=None, colsample_bynode=None,\n             colsample_bytree=None, device=None, early_stopping_rounds=None,\n             enable_categorical=False, eval_metric=None, feature_types=None,\n             gamma=None, grow_policy=None, importance_type=None,\n             interaction_constraints=None, learning_rate=None, max_bin=None,\n             max_cat_threshold=None, max_cat_to_onehot=None,\n             max_delta_step=None, max_depth=None, max_leaves=None,\n             min_child_weight=None, missing=nan, monotone_constraints=None,\n             multi_strategy=None, n_estimators=None, n_jobs=None,\n             num_parallel_tree=None, random_state=None, ...)</pre></div></div></div><div class=\"sk-serial\"><div class=\"sk-item\"><div class=\"sk-estimator sk-toggleable\"><input class=\"sk-toggleable__control sk-hidden--visually\" id=\"sk-estimator-id-6\" type=\"checkbox\" ><label for=\"sk-estimator-id-6\" class=\"sk-toggleable__label sk-toggleable__label-arrow\">XGBRegressor</label><div class=\"sk-toggleable__content\"><pre>XGBRegressor(base_score=None, booster=None, callbacks=None,\n             colsample_bylevel=None, colsample_bynode=None,\n             colsample_bytree=None, device=None, early_stopping_rounds=None,\n             enable_categorical=False, eval_metric=None, feature_types=None,\n             gamma=None, grow_policy=None, importance_type=None,\n             interaction_constraints=None, learning_rate=None, max_bin=None,\n             max_cat_threshold=None, max_cat_to_onehot=None,\n             max_delta_step=None, max_depth=None, max_leaves=None,\n             min_child_weight=None, missing=nan, monotone_constraints=None,\n             multi_strategy=None, n_estimators=None, n_jobs=None,\n             num_parallel_tree=None, random_state=None, ...)</pre></div></div></div></div></div></div></div></div></div></div>"
          },
          "metadata": {}
        }
      ],
      "execution_count": null
    },
    {
      "cell_type": "code",
      "source": [
        "# Train best model\n",
        "best_model = random_search.best_estimator_\n",
        "print(\"Best Parameters:\", random_search.best_params_)\n",
        "best_model.fit(x_train, y_train)"
      ],
      "metadata": {
        "trusted": true,
        "execution": {
          "iopub.status.busy": "2025-03-04T05:13:50.769276Z",
          "iopub.execute_input": "2025-03-04T05:13:50.769598Z",
          "iopub.status.idle": "2025-03-04T05:15:46.704980Z",
          "shell.execute_reply.started": "2025-03-04T05:13:50.769571Z",
          "shell.execute_reply": "2025-03-04T05:15:46.704192Z"
        },
        "id": "2d8ZZxQpry_-",
        "outputId": "013d13e6-9b20-4c6f-dfb7-f82da38a0ba9"
      },
      "outputs": [
        {
          "name": "stdout",
          "text": "Best Parameters: {'subsample': 1.0, 'n_estimators': 500, 'max_depth': 10, 'learning_rate': 0.2, 'colsample_bytree': 0.6}\n",
          "output_type": "stream"
        },
        {
          "execution_count": 52,
          "output_type": "execute_result",
          "data": {
            "text/plain": "XGBRegressor(base_score=None, booster=None, callbacks=None,\n             colsample_bylevel=None, colsample_bynode=None,\n             colsample_bytree=0.6, device=None, early_stopping_rounds=None,\n             enable_categorical=False, eval_metric=None, feature_types=None,\n             gamma=None, grow_policy=None, importance_type=None,\n             interaction_constraints=None, learning_rate=0.2, max_bin=None,\n             max_cat_threshold=None, max_cat_to_onehot=None,\n             max_delta_step=None, max_depth=10, max_leaves=None,\n             min_child_weight=None, missing=nan, monotone_constraints=None,\n             multi_strategy=None, n_estimators=500, n_jobs=None,\n             num_parallel_tree=None, random_state=None, ...)",
            "text/html": "<style>#sk-container-id-5 {color: black;background-color: white;}#sk-container-id-5 pre{padding: 0;}#sk-container-id-5 div.sk-toggleable {background-color: white;}#sk-container-id-5 label.sk-toggleable__label {cursor: pointer;display: block;width: 100%;margin-bottom: 0;padding: 0.3em;box-sizing: border-box;text-align: center;}#sk-container-id-5 label.sk-toggleable__label-arrow:before {content: \"▸\";float: left;margin-right: 0.25em;color: #696969;}#sk-container-id-5 label.sk-toggleable__label-arrow:hover:before {color: black;}#sk-container-id-5 div.sk-estimator:hover label.sk-toggleable__label-arrow:before {color: black;}#sk-container-id-5 div.sk-toggleable__content {max-height: 0;max-width: 0;overflow: hidden;text-align: left;background-color: #f0f8ff;}#sk-container-id-5 div.sk-toggleable__content pre {margin: 0.2em;color: black;border-radius: 0.25em;background-color: #f0f8ff;}#sk-container-id-5 input.sk-toggleable__control:checked~div.sk-toggleable__content {max-height: 200px;max-width: 100%;overflow: auto;}#sk-container-id-5 input.sk-toggleable__control:checked~label.sk-toggleable__label-arrow:before {content: \"▾\";}#sk-container-id-5 div.sk-estimator input.sk-toggleable__control:checked~label.sk-toggleable__label {background-color: #d4ebff;}#sk-container-id-5 div.sk-label input.sk-toggleable__control:checked~label.sk-toggleable__label {background-color: #d4ebff;}#sk-container-id-5 input.sk-hidden--visually {border: 0;clip: rect(1px 1px 1px 1px);clip: rect(1px, 1px, 1px, 1px);height: 1px;margin: -1px;overflow: hidden;padding: 0;position: absolute;width: 1px;}#sk-container-id-5 div.sk-estimator {font-family: monospace;background-color: #f0f8ff;border: 1px dotted black;border-radius: 0.25em;box-sizing: border-box;margin-bottom: 0.5em;}#sk-container-id-5 div.sk-estimator:hover {background-color: #d4ebff;}#sk-container-id-5 div.sk-parallel-item::after {content: \"\";width: 100%;border-bottom: 1px solid gray;flex-grow: 1;}#sk-container-id-5 div.sk-label:hover label.sk-toggleable__label {background-color: #d4ebff;}#sk-container-id-5 div.sk-serial::before {content: \"\";position: absolute;border-left: 1px solid gray;box-sizing: border-box;top: 0;bottom: 0;left: 50%;z-index: 0;}#sk-container-id-5 div.sk-serial {display: flex;flex-direction: column;align-items: center;background-color: white;padding-right: 0.2em;padding-left: 0.2em;position: relative;}#sk-container-id-5 div.sk-item {position: relative;z-index: 1;}#sk-container-id-5 div.sk-parallel {display: flex;align-items: stretch;justify-content: center;background-color: white;position: relative;}#sk-container-id-5 div.sk-item::before, #sk-container-id-5 div.sk-parallel-item::before {content: \"\";position: absolute;border-left: 1px solid gray;box-sizing: border-box;top: 0;bottom: 0;left: 50%;z-index: -1;}#sk-container-id-5 div.sk-parallel-item {display: flex;flex-direction: column;z-index: 1;position: relative;background-color: white;}#sk-container-id-5 div.sk-parallel-item:first-child::after {align-self: flex-end;width: 50%;}#sk-container-id-5 div.sk-parallel-item:last-child::after {align-self: flex-start;width: 50%;}#sk-container-id-5 div.sk-parallel-item:only-child::after {width: 0;}#sk-container-id-5 div.sk-dashed-wrapped {border: 1px dashed gray;margin: 0 0.4em 0.5em 0.4em;box-sizing: border-box;padding-bottom: 0.4em;background-color: white;}#sk-container-id-5 div.sk-label label {font-family: monospace;font-weight: bold;display: inline-block;line-height: 1.2em;}#sk-container-id-5 div.sk-label-container {text-align: center;}#sk-container-id-5 div.sk-container {/* jupyter's `normalize.less` sets `[hidden] { display: none; }` but bootstrap.min.css set `[hidden] { display: none !important; }` so we also need the `!important` here to be able to override the default hidden behavior on the sphinx rendered scikit-learn.org. See: https://github.com/scikit-learn/scikit-learn/issues/21755 */display: inline-block !important;position: relative;}#sk-container-id-5 div.sk-text-repr-fallback {display: none;}</style><div id=\"sk-container-id-5\" class=\"sk-top-container\"><div class=\"sk-text-repr-fallback\"><pre>XGBRegressor(base_score=None, booster=None, callbacks=None,\n             colsample_bylevel=None, colsample_bynode=None,\n             colsample_bytree=0.6, device=None, early_stopping_rounds=None,\n             enable_categorical=False, eval_metric=None, feature_types=None,\n             gamma=None, grow_policy=None, importance_type=None,\n             interaction_constraints=None, learning_rate=0.2, max_bin=None,\n             max_cat_threshold=None, max_cat_to_onehot=None,\n             max_delta_step=None, max_depth=10, max_leaves=None,\n             min_child_weight=None, missing=nan, monotone_constraints=None,\n             multi_strategy=None, n_estimators=500, n_jobs=None,\n             num_parallel_tree=None, random_state=None, ...)</pre><b>In a Jupyter environment, please rerun this cell to show the HTML representation or trust the notebook. <br />On GitHub, the HTML representation is unable to render, please try loading this page with nbviewer.org.</b></div><div class=\"sk-container\" hidden><div class=\"sk-item\"><div class=\"sk-estimator sk-toggleable\"><input class=\"sk-toggleable__control sk-hidden--visually\" id=\"sk-estimator-id-7\" type=\"checkbox\" checked><label for=\"sk-estimator-id-7\" class=\"sk-toggleable__label sk-toggleable__label-arrow\">XGBRegressor</label><div class=\"sk-toggleable__content\"><pre>XGBRegressor(base_score=None, booster=None, callbacks=None,\n             colsample_bylevel=None, colsample_bynode=None,\n             colsample_bytree=0.6, device=None, early_stopping_rounds=None,\n             enable_categorical=False, eval_metric=None, feature_types=None,\n             gamma=None, grow_policy=None, importance_type=None,\n             interaction_constraints=None, learning_rate=0.2, max_bin=None,\n             max_cat_threshold=None, max_cat_to_onehot=None,\n             max_delta_step=None, max_depth=10, max_leaves=None,\n             min_child_weight=None, missing=nan, monotone_constraints=None,\n             multi_strategy=None, n_estimators=500, n_jobs=None,\n             num_parallel_tree=None, random_state=None, ...)</pre></div></div></div></div></div>"
          },
          "metadata": {}
        }
      ],
      "execution_count": null
    },
    {
      "cell_type": "code",
      "source": [
        "new_pred=best_model.predict(x_test)\n",
        "new_xgb_rmse=np.sqrt(mean_squared_error(y_test,new_pred))\n",
        "new_xgb_rs=r2_score(y_test,new_pred)"
      ],
      "metadata": {
        "trusted": true,
        "execution": {
          "iopub.status.busy": "2025-03-04T05:22:21.830111Z",
          "iopub.execute_input": "2025-03-04T05:22:21.830395Z",
          "iopub.status.idle": "2025-03-04T05:22:30.552304Z",
          "shell.execute_reply.started": "2025-03-04T05:22:21.830371Z",
          "shell.execute_reply": "2025-03-04T05:22:30.551507Z"
        },
        "id": "7TlfDTBsry__"
      },
      "outputs": [],
      "execution_count": null
    },
    {
      "cell_type": "code",
      "source": [
        "print(new_xgb_rmse)\n",
        "print(new_xgb_rs)"
      ],
      "metadata": {
        "trusted": true,
        "execution": {
          "iopub.status.busy": "2025-03-04T05:22:30.553330Z",
          "iopub.execute_input": "2025-03-04T05:22:30.553651Z",
          "iopub.status.idle": "2025-03-04T05:22:30.558980Z",
          "shell.execute_reply.started": "2025-03-04T05:22:30.553617Z",
          "shell.execute_reply": "2025-03-04T05:22:30.558083Z"
        },
        "id": "wLqpL4uHrzAA",
        "outputId": "bead2c08-dc9f-4e4b-b627-c01e597c02f3"
      },
      "outputs": [
        {
          "name": "stdout",
          "text": "213.75746807991763\n0.961804742847065\n",
          "output_type": "stream"
        }
      ],
      "execution_count": null
    },
    {
      "cell_type": "code",
      "source": [],
      "metadata": {
        "trusted": true,
        "id": "fnQ4sP9grzAA"
      },
      "outputs": [],
      "execution_count": null
    }
  ]
}